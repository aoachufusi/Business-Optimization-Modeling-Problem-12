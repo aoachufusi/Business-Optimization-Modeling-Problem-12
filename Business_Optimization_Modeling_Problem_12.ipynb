{
  "nbformat": 4,
  "nbformat_minor": 0,
  "metadata": {
    "colab": {
      "provenance": []
    },
    "kernelspec": {
      "name": "python3",
      "display_name": "Python 3"
    },
    "language_info": {
      "name": "python"
    }
  },
  "cells": [
    {
      "cell_type": "code",
      "execution_count": 1,
      "metadata": {
        "id": "IgGUXvs9zAVu",
        "colab": {
          "base_uri": "https://localhost:8080/"
        },
        "outputId": "802dacca-7ef5-4d28-ec63-963d8d0862d5"
      },
      "outputs": [
        {
          "output_type": "stream",
          "name": "stdout",
          "text": [
            "        message: Optimization terminated successfully. (HiGHS Status 7: Optimal)\n",
            "        success: True\n",
            "         status: 0\n",
            "            fun: -541238.0952380953\n",
            "              x: [ 3.500e+03  3.500e+03  2.500e+03  7.500e+03]\n",
            "            nit: 3\n",
            "          lower:  residual: [ 3.500e+03  3.500e+03  2.500e+03  7.500e+03]\n",
            "                 marginals: [ 0.000e+00  0.000e+00  0.000e+00  0.000e+00]\n",
            "          upper:  residual: [       inf        inf        inf        inf]\n",
            "                 marginals: [ 0.000e+00  0.000e+00  0.000e+00  0.000e+00]\n",
            "          eqlin:  residual: []\n",
            "                 marginals: []\n",
            "        ineqlin:  residual: [ 0.000e+00  0.000e+00  0.000e+00  0.000e+00]\n",
            "                 marginals: [-9.619e+00 -4.810e+00 -4.429e+01 -2.505e+01]\n",
            " mip_node_count: 0\n",
            " mip_dual_bound: 0.0\n",
            "        mip_gap: 0.0\n"
          ]
        }
      ],
      "source": [
        "from scipy.optimize import linprog\n",
        "from numpy import inf, dot\n",
        "\n",
        "# objective coefficient vector\n",
        "c = [-104/3, -104/3, -209/7, -209/7]\n",
        "\n",
        "# inequality constraints in the form A_ub x <= b_ub ('<=' means 'less than or equal to' here)\n",
        "A_ub = [[-1, 1, 0, 0],\n",
        "        [0, 0, -3, 1],\n",
        "        [1, 0, 1, 0],\n",
        "        [0, 1, 0, 1]]  # It's called A_ub because we are assuming these are all upper bound constraints\n",
        "\n",
        "b_ub = [0, 0, 6000, 11000]\n",
        "\n",
        "# bounds on variables\n",
        "bounds = [[0, inf], [0, inf], [0, inf], [0, inf]]\n",
        "\n",
        "print(linprog(c, A_ub=A_ub, b_ub=b_ub, bounds=bounds))\n"
      ]
    },
    {
      "cell_type": "code",
      "source": [],
      "metadata": {
        "id": "w1Ih7Sea0Znk"
      },
      "execution_count": null,
      "outputs": []
    }
  ]
}